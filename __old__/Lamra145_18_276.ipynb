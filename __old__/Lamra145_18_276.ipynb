{
 "cells": [
  {
   "cell_type": "code",
   "execution_count": null,
   "id": "stunning-shark",
   "metadata": {},
   "outputs": [],
   "source": [
    "import numpy as np\n",
    "import matplotlib.pyplot as plt\n",
    "import pandas as pd\n",
    "import os\n",
    "import datetime\n",
    "import seaborn as sns\n",
    "%matplotlib inline\n",
    "%config InlineBackend.figure_format='retina'"
   ]
  },
  {
   "cell_type": "code",
   "execution_count": null,
   "id": "lovely-illustration",
   "metadata": {},
   "outputs": [],
   "source": [
    "DATA_FOLDER = 'LAM data'\n",
    "FIG_FOLDER = 'fig'\n",
    "\n",
    "os.makedirs(FIG_FOLDER, exist_ok=True)"
   ]
  },
  {
   "cell_type": "code",
   "execution_count": null,
   "id": "identified-harvest",
   "metadata": {},
   "outputs": [],
   "source": [
    "data_file = os.path.join(DATA_FOLDER, 'lamraw_145_18_276.xlsx')\n",
    "df = pd.read_excel(data_file)\n",
    "\n",
    "df"
   ]
  },
  {
   "cell_type": "code",
   "execution_count": null,
   "id": "fifty-sigma",
   "metadata": {},
   "outputs": [],
   "source": [
    "result = df.groupby(df(['hour'], ['direction']).size()\n",
    "    print(result)"
   ]
  },
  {
   "cell_type": "code",
   "execution_count": null,
   "id": "violent-property",
   "metadata": {},
   "outputs": [],
   "source": []
  },
  {
   "cell_type": "code",
   "execution_count": null,
   "id": "canadian-soccer",
   "metadata": {},
   "outputs": [],
   "source": []
  },
  {
   "cell_type": "code",
   "execution_count": null,
   "id": "sunrise-criminal",
   "metadata": {},
   "outputs": [],
   "source": [
    "fig, ax = plt.subplots(figsize=(8, 7))\n",
    "df['hour_str'] = df.hour.astype(str)\n",
    "sns.histplot(df, x='hour_str', hue='direction', ax=ax) # kde=True\n",
    "ax.set_xlabel('Hour')\n",
    "ax.set_ylabel('Vehicles')\n",
    "ax.set_title(\"145 - Tapiola / Itäkeskus\")"
   ]
  },
  {
   "cell_type": "code",
   "execution_count": null,
   "id": "another-guitar",
   "metadata": {},
   "outputs": [],
   "source": []
  }
 ],
 "metadata": {
  "kernelspec": {
   "display_name": "Python 3",
   "language": "python",
   "name": "python3"
  },
  "language_info": {
   "codemirror_mode": {
    "name": "ipython",
    "version": 3
   },
   "file_extension": ".py",
   "mimetype": "text/x-python",
   "name": "python",
   "nbconvert_exporter": "python",
   "pygments_lexer": "ipython3",
   "version": "3.9.1"
  }
 },
 "nbformat": 4,
 "nbformat_minor": 5
}
